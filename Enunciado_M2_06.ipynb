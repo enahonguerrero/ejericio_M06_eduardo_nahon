{
 "cells": [
  {
   "cell_type": "markdown",
   "metadata": {},
   "source": [
    "# Ejercicios Modulo 2. Funciones\n",
    "\n",
    "Consideraciones a tener en cuenta: \n",
    "\n",
    "* Guardar este documento con el siguiente formato para su entrega: __M2_06_nombre_apellido1_apellido2__\n",
    "* Realizar los ejercicios con las herramientas vistas en las sesiones. \n",
    "* Comentar el código\n",
    "* Utilizar nombres de variables apropiados, si vais a guardar una nota, llamar a esa variable nota, no n o x"
   ]
  },
  {
   "cell_type": "markdown",
   "metadata": {},
   "source": [
    "## Ejercicios de funciones"
   ]
  },
  {
   "cell_type": "markdown",
   "metadata": {},
   "source": [
    "**1) Realiza una función que devuelva el área de un círculo a partir de un radio. La función se llamará area_circulo(). El radio se pedirá al usuario por teclado:**\n",
    "\n",
    "Nota: El área de un círculo se obtiene al elevar el radio a dos y multiplicando el resultado por el número pi. Puedes utilizar el valor 3.14159 como pi o importarlo del módulo math:\n",
    "```python\n",
    "import math\n",
    "print(math.pi)\n",
    "> 3.1415...\n",
    "```"
   ]
  },
  {
   "cell_type": "code",
   "execution_count": 16,
   "metadata": {},
   "outputs": [
    {
     "name": "stdout",
     "output_type": "stream",
     "text": [
      "El área con el radio elegido es :  12.57\n"
     ]
    }
   ],
   "source": [
    "def area_circulo():\n",
    "    import math\n",
    "    radio = float(input(\"Introduzca el radio del circulo\"))\n",
    "    area = round(radio * radio * math.pi, 2)\n",
    "    print(\"El área con el radio elegido es : \", area)\n",
    "area_circulo()"
   ]
  },
  {
   "cell_type": "markdown",
   "metadata": {},
   "source": [
    "**2) Realiza una función llamada lee_numero() que solicite y lea por teclado un numero. Utilizar esta función para pedirle al usuario 3 números. Luego pasarle estos 3 números a una función que se llame mayor() que tenga 3 parámetros y que devuelva el número mayor de los 3:**"
   ]
  },
  {
   "cell_type": "code",
   "execution_count": 21,
   "metadata": {},
   "outputs": [
    {
     "name": "stdout",
     "output_type": "stream",
     "text": [
      "[73737, 34, 64574]\n",
      "El número con mayor valor que has introducido es :  73737\n"
     ]
    }
   ],
   "source": [
    "def lee_numero():\n",
    "    número = int(input(\"Introduzca 3 números cualesquiera : \"))\n",
    "    return número\n",
    "def mayor(num1, num2, num3):\n",
    "    if num1 >= num2 and num1 >= num3:\n",
    "        return num1\n",
    "    elif num2 >= num1 and num2 >= num3:\n",
    "        return num2\n",
    "    else:\n",
    "        return num3\n",
    "lista_números = []\n",
    "número1 = lee_numero()\n",
    "número2 = lee_numero()\n",
    "número3 = lee_numero()\n",
    "lista_números.append(número1)\n",
    "lista_números.append(número2)\n",
    "lista_números.append(número3)\n",
    "print(lista_números)\n",
    "resultado = mayor(número1, número2, número3)\n",
    "print(\"El número con mayor valor que has introducido es : \" , resultado)\n",
    "\n",
    "\n"
   ]
  },
  {
   "cell_type": "markdown",
   "metadata": {},
   "source": [
    "**3) Realizar una función llamada imc(). Esta función nos proporcionará el estado nutricional de una persona. Esto es; la clasificación de su índice de masa corporal (IMC), según la tabla proporcionada. La función recibirá el peso (en kilos) y la talla de una persona (en metros con dos decimales), datos a partir de los cuales se puede calcular el IMC cómo:**\n",
    "\n",
    "IMC = peso / (altura * altura)\n",
    "\n",
    "Clasificación: IMC (Kg/m^2)\n",
    "* Bajo peso:  < 18.50\n",
    "* Normal:      [18.50, 25.00)\n",
    "* Sobrepeso: >= 25.00\n",
    "* Obesidad: >= 30.00"
   ]
  },
  {
   "cell_type": "code",
   "execution_count": null,
   "metadata": {},
   "outputs": [
    {
     "name": "stdout",
     "output_type": "stream",
     "text": [
      "Eres normal Su indice de masa corporal es el siguiente :  18.69 (Kg/m^2)\n"
     ]
    }
   ],
   "source": [
    "def imc():\n",
    "    peso = round(float(input(\"Introduzca su peso  en kg: \")), 2)\n",
    "    altura = round(float(input(\"Introduzca su altura en metros : \")), 2)\n",
    "    índice_de_masa_corporal = round((peso/ (altura * altura )),2)\n",
    "    if índice_de_masa_corporal < 18.50:\n",
    "        print(\"Enhorabuena tienes desnutrición : \", \"Su indice de masa corporal es el siguiente : \", índice_de_masa_corporal, \"(Kg/m^2)\")\n",
    "    elif índice_de_masa_corporal >= 18.50 and índice_de_masa_corporal < 25.00:\n",
    "        print(\"Eres normal\",  \"Su indice de masa corporal es el siguiente : \", índice_de_masa_corporal, \"(Kg/m^2)\")\n",
    "    elif índice_de_masa_corporal >= 25.00 and índice_de_masa_corporal < 30 :\n",
    "        print(\"Estás relleno de amor\",  \"Su indice de masa corporal es el siguiente : \", índice_de_masa_corporal, \"(Kg/m^2)\")\n",
    "    else:\n",
    "        print(\"Estás obeso\", \"Su indice de masa corporal es el siguiente : \", índice_de_masa_corporal, \"(Kg/m^2)\")\n",
    "imc()\n",
    "\n"
   ]
  }
 ],
 "metadata": {
  "anaconda-cloud": {},
  "kernelspec": {
   "display_name": "Python 3",
   "language": "python",
   "name": "python3"
  },
  "language_info": {
   "codemirror_mode": {
    "name": "ipython",
    "version": 3
   },
   "file_extension": ".py",
   "mimetype": "text/x-python",
   "name": "python",
   "nbconvert_exporter": "python",
   "pygments_lexer": "ipython3",
   "version": "3.13.7"
  }
 },
 "nbformat": 4,
 "nbformat_minor": 1
}
